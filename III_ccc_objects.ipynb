version https://git-lfs.github.com/spec/v1
oid sha256:a71fdcc8fd1b34df7ebf8a6b0d08f3fa63479dde08f784a425c52d1b41767e23
size 15555
