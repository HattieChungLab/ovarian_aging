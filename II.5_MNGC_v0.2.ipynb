version https://git-lfs.github.com/spec/v1
oid sha256:4763015dd702d4ccc0cddd6de046ca0b84ec79fa1eb000f30dab9622b1bab809
size 5206439
